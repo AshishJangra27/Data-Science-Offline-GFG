{
  "nbformat": 4,
  "nbformat_minor": 0,
  "metadata": {
    "colab": {
      "provenance": []
    },
    "kernelspec": {
      "name": "python3",
      "display_name": "Python 3"
    },
    "language_info": {
      "name": "python"
    },
    "widgets": {
      "application/vnd.jupyter.widget-state+json": {
        "873e369702d442ba84786e110c2e9112": {
          "model_module": "@jupyter-widgets/controls",
          "model_name": "HBoxModel",
          "model_module_version": "1.5.0",
          "state": {
            "_dom_classes": [],
            "_model_module": "@jupyter-widgets/controls",
            "_model_module_version": "1.5.0",
            "_model_name": "HBoxModel",
            "_view_count": null,
            "_view_module": "@jupyter-widgets/controls",
            "_view_module_version": "1.5.0",
            "_view_name": "HBoxView",
            "box_style": "",
            "children": [
              "IPY_MODEL_bba96883018d404fb7f7063cf0165e46",
              "IPY_MODEL_b091630585854c479dcb58099347b9b6",
              "IPY_MODEL_73dd76f5e37d4a1fabb629aeb3ad4ffb"
            ],
            "layout": "IPY_MODEL_27cb0381c1e84a49ab1bc1fa9a2a6b07"
          }
        },
        "bba96883018d404fb7f7063cf0165e46": {
          "model_module": "@jupyter-widgets/controls",
          "model_name": "HTMLModel",
          "model_module_version": "1.5.0",
          "state": {
            "_dom_classes": [],
            "_model_module": "@jupyter-widgets/controls",
            "_model_module_version": "1.5.0",
            "_model_name": "HTMLModel",
            "_view_count": null,
            "_view_module": "@jupyter-widgets/controls",
            "_view_module_version": "1.5.0",
            "_view_name": "HTMLView",
            "description": "",
            "description_tooltip": null,
            "layout": "IPY_MODEL_06914513a55f459784203eb1f17191eb",
            "placeholder": "​",
            "style": "IPY_MODEL_2ca57a1e29c1489c8e33ab8daed41cd5",
            "value": ""
          }
        },
        "b091630585854c479dcb58099347b9b6": {
          "model_module": "@jupyter-widgets/controls",
          "model_name": "FloatProgressModel",
          "model_module_version": "1.5.0",
          "state": {
            "_dom_classes": [],
            "_model_module": "@jupyter-widgets/controls",
            "_model_module_version": "1.5.0",
            "_model_name": "FloatProgressModel",
            "_view_count": null,
            "_view_module": "@jupyter-widgets/controls",
            "_view_module_version": "1.5.0",
            "_view_name": "ProgressView",
            "bar_style": "success",
            "description": "",
            "description_tooltip": null,
            "layout": "IPY_MODEL_6eae81725aef42d8b734aa302199fa87",
            "max": 1,
            "min": 0,
            "orientation": "horizontal",
            "style": "IPY_MODEL_64b31d1a976342beb7d989dd6810820a",
            "value": 1
          }
        },
        "73dd76f5e37d4a1fabb629aeb3ad4ffb": {
          "model_module": "@jupyter-widgets/controls",
          "model_name": "HTMLModel",
          "model_module_version": "1.5.0",
          "state": {
            "_dom_classes": [],
            "_model_module": "@jupyter-widgets/controls",
            "_model_module_version": "1.5.0",
            "_model_name": "HTMLModel",
            "_view_count": null,
            "_view_module": "@jupyter-widgets/controls",
            "_view_module_version": "1.5.0",
            "_view_name": "HTMLView",
            "description": "",
            "description_tooltip": null,
            "layout": "IPY_MODEL_08ce4a4492074d1a803bc59103d83e98",
            "placeholder": "​",
            "style": "IPY_MODEL_84b986a0f1794cd9a10824207fe1592a",
            "value": " 11/? [02:24&lt;00:00, 11.18s/it]"
          }
        },
        "27cb0381c1e84a49ab1bc1fa9a2a6b07": {
          "model_module": "@jupyter-widgets/base",
          "model_name": "LayoutModel",
          "model_module_version": "1.2.0",
          "state": {
            "_model_module": "@jupyter-widgets/base",
            "_model_module_version": "1.2.0",
            "_model_name": "LayoutModel",
            "_view_count": null,
            "_view_module": "@jupyter-widgets/base",
            "_view_module_version": "1.2.0",
            "_view_name": "LayoutView",
            "align_content": null,
            "align_items": null,
            "align_self": null,
            "border": null,
            "bottom": null,
            "display": null,
            "flex": null,
            "flex_flow": null,
            "grid_area": null,
            "grid_auto_columns": null,
            "grid_auto_flow": null,
            "grid_auto_rows": null,
            "grid_column": null,
            "grid_gap": null,
            "grid_row": null,
            "grid_template_areas": null,
            "grid_template_columns": null,
            "grid_template_rows": null,
            "height": null,
            "justify_content": null,
            "justify_items": null,
            "left": null,
            "margin": null,
            "max_height": null,
            "max_width": null,
            "min_height": null,
            "min_width": null,
            "object_fit": null,
            "object_position": null,
            "order": null,
            "overflow": null,
            "overflow_x": null,
            "overflow_y": null,
            "padding": null,
            "right": null,
            "top": null,
            "visibility": null,
            "width": null
          }
        },
        "06914513a55f459784203eb1f17191eb": {
          "model_module": "@jupyter-widgets/base",
          "model_name": "LayoutModel",
          "model_module_version": "1.2.0",
          "state": {
            "_model_module": "@jupyter-widgets/base",
            "_model_module_version": "1.2.0",
            "_model_name": "LayoutModel",
            "_view_count": null,
            "_view_module": "@jupyter-widgets/base",
            "_view_module_version": "1.2.0",
            "_view_name": "LayoutView",
            "align_content": null,
            "align_items": null,
            "align_self": null,
            "border": null,
            "bottom": null,
            "display": null,
            "flex": null,
            "flex_flow": null,
            "grid_area": null,
            "grid_auto_columns": null,
            "grid_auto_flow": null,
            "grid_auto_rows": null,
            "grid_column": null,
            "grid_gap": null,
            "grid_row": null,
            "grid_template_areas": null,
            "grid_template_columns": null,
            "grid_template_rows": null,
            "height": null,
            "justify_content": null,
            "justify_items": null,
            "left": null,
            "margin": null,
            "max_height": null,
            "max_width": null,
            "min_height": null,
            "min_width": null,
            "object_fit": null,
            "object_position": null,
            "order": null,
            "overflow": null,
            "overflow_x": null,
            "overflow_y": null,
            "padding": null,
            "right": null,
            "top": null,
            "visibility": null,
            "width": null
          }
        },
        "2ca57a1e29c1489c8e33ab8daed41cd5": {
          "model_module": "@jupyter-widgets/controls",
          "model_name": "DescriptionStyleModel",
          "model_module_version": "1.5.0",
          "state": {
            "_model_module": "@jupyter-widgets/controls",
            "_model_module_version": "1.5.0",
            "_model_name": "DescriptionStyleModel",
            "_view_count": null,
            "_view_module": "@jupyter-widgets/base",
            "_view_module_version": "1.2.0",
            "_view_name": "StyleView",
            "description_width": ""
          }
        },
        "6eae81725aef42d8b734aa302199fa87": {
          "model_module": "@jupyter-widgets/base",
          "model_name": "LayoutModel",
          "model_module_version": "1.2.0",
          "state": {
            "_model_module": "@jupyter-widgets/base",
            "_model_module_version": "1.2.0",
            "_model_name": "LayoutModel",
            "_view_count": null,
            "_view_module": "@jupyter-widgets/base",
            "_view_module_version": "1.2.0",
            "_view_name": "LayoutView",
            "align_content": null,
            "align_items": null,
            "align_self": null,
            "border": null,
            "bottom": null,
            "display": null,
            "flex": null,
            "flex_flow": null,
            "grid_area": null,
            "grid_auto_columns": null,
            "grid_auto_flow": null,
            "grid_auto_rows": null,
            "grid_column": null,
            "grid_gap": null,
            "grid_row": null,
            "grid_template_areas": null,
            "grid_template_columns": null,
            "grid_template_rows": null,
            "height": null,
            "justify_content": null,
            "justify_items": null,
            "left": null,
            "margin": null,
            "max_height": null,
            "max_width": null,
            "min_height": null,
            "min_width": null,
            "object_fit": null,
            "object_position": null,
            "order": null,
            "overflow": null,
            "overflow_x": null,
            "overflow_y": null,
            "padding": null,
            "right": null,
            "top": null,
            "visibility": null,
            "width": "20px"
          }
        },
        "64b31d1a976342beb7d989dd6810820a": {
          "model_module": "@jupyter-widgets/controls",
          "model_name": "ProgressStyleModel",
          "model_module_version": "1.5.0",
          "state": {
            "_model_module": "@jupyter-widgets/controls",
            "_model_module_version": "1.5.0",
            "_model_name": "ProgressStyleModel",
            "_view_count": null,
            "_view_module": "@jupyter-widgets/base",
            "_view_module_version": "1.2.0",
            "_view_name": "StyleView",
            "bar_color": null,
            "description_width": ""
          }
        },
        "08ce4a4492074d1a803bc59103d83e98": {
          "model_module": "@jupyter-widgets/base",
          "model_name": "LayoutModel",
          "model_module_version": "1.2.0",
          "state": {
            "_model_module": "@jupyter-widgets/base",
            "_model_module_version": "1.2.0",
            "_model_name": "LayoutModel",
            "_view_count": null,
            "_view_module": "@jupyter-widgets/base",
            "_view_module_version": "1.2.0",
            "_view_name": "LayoutView",
            "align_content": null,
            "align_items": null,
            "align_self": null,
            "border": null,
            "bottom": null,
            "display": null,
            "flex": null,
            "flex_flow": null,
            "grid_area": null,
            "grid_auto_columns": null,
            "grid_auto_flow": null,
            "grid_auto_rows": null,
            "grid_column": null,
            "grid_gap": null,
            "grid_row": null,
            "grid_template_areas": null,
            "grid_template_columns": null,
            "grid_template_rows": null,
            "height": null,
            "justify_content": null,
            "justify_items": null,
            "left": null,
            "margin": null,
            "max_height": null,
            "max_width": null,
            "min_height": null,
            "min_width": null,
            "object_fit": null,
            "object_position": null,
            "order": null,
            "overflow": null,
            "overflow_x": null,
            "overflow_y": null,
            "padding": null,
            "right": null,
            "top": null,
            "visibility": null,
            "width": null
          }
        },
        "84b986a0f1794cd9a10824207fe1592a": {
          "model_module": "@jupyter-widgets/controls",
          "model_name": "DescriptionStyleModel",
          "model_module_version": "1.5.0",
          "state": {
            "_model_module": "@jupyter-widgets/controls",
            "_model_module_version": "1.5.0",
            "_model_name": "DescriptionStyleModel",
            "_view_count": null,
            "_view_module": "@jupyter-widgets/base",
            "_view_module_version": "1.2.0",
            "_view_name": "StyleView",
            "description_width": ""
          }
        }
      }
    }
  },
  "cells": [
    {
      "cell_type": "markdown",
      "source": [
        "- Code Review\n",
        "- AI based Content Writing (Psychology, Python, Modern history)\n",
        "- AI Video Summary (Questions Answer, AI Summary, Flash Cards/Defination, Notes)"
      ],
      "metadata": {
        "id": "NTLJWVxIKwSB"
      }
    },
    {
      "cell_type": "markdown",
      "source": [
        "### 1. AI based Content Writing"
      ],
      "metadata": {
        "id": "22hPHFbJal7x"
      }
    },
    {
      "cell_type": "code",
      "metadata": {
        "id": "e56ff89a"
      },
      "source": [
        "import os\n",
        "from tqdm.auto import tqdm\n",
        "import google.generativeai as genai\n",
        "from google.colab import userdata\n",
        "\n",
        "genai.configure(api_key=\"\")\n",
        "\n",
        "gemini_model = genai.GenerativeModel('gemini-1.5-flash')"
      ],
      "execution_count": null,
      "outputs": []
    },
    {
      "cell_type": "code",
      "metadata": {
        "colab": {
          "base_uri": "https://localhost:8080/",
          "height": 240,
          "referenced_widgets": [
            "873e369702d442ba84786e110c2e9112",
            "bba96883018d404fb7f7063cf0165e46",
            "b091630585854c479dcb58099347b9b6",
            "73dd76f5e37d4a1fabb629aeb3ad4ffb",
            "27cb0381c1e84a49ab1bc1fa9a2a6b07",
            "06914513a55f459784203eb1f17191eb",
            "2ca57a1e29c1489c8e33ab8daed41cd5",
            "6eae81725aef42d8b734aa302199fa87",
            "64b31d1a976342beb7d989dd6810820a",
            "08ce4a4492074d1a803bc59103d83e98",
            "84b986a0f1794cd9a10824207fe1592a"
          ]
        },
        "id": "64b7acb5",
        "outputId": "4e3178dd-0fd9-4a0a-a4eb-bd1645d48c82"
      },
      "source": [
        "topic = 'game theory'\n",
        "\n",
        "prompt = '''I want to learn ''' + topic + ''' in 5 days\n",
        "\n",
        "give me the roadmap\n",
        "\n",
        "I've maximum 3o minutes per day that I can dedicate\n",
        "\n",
        "just list the topics, without anythien else\n",
        "\n",
        "output shoud not have weeks just the topics in order format in a list of wihtout markd, just topics'''\n",
        "\n",
        "response = gemini_model.generate_content(prompt)\n",
        "\n",
        "topics = response.text.split('\\n')\n",
        "\n",
        "# Create a dedicated folder for the topic if it doesn't exist\n",
        "topic_folder = f'articles/{topic.replace(\" \", \"_\")}'\n",
        "if not os.path.exists(topic_folder):\n",
        "    os.makedirs(topic_folder)\n",
        "\n",
        "\n",
        "for i, sub_topic in tqdm(enumerate(topics)):\n",
        "\n",
        "  article_generation_prompt = 'write a detailed article on ' + sub_topic + \" topic. make sure it can be read with maximum of 5 minutes. write it as if i'm a 10 year old. write it in a interesting story way\"\n",
        "\n",
        "  response = gemini_model.generate_content(article_generation_prompt)\n",
        "\n",
        "  filename = f\"{topic_folder}/{i+1}.{sub_topic.replace(' ', '_')}.txt\"\n",
        "\n",
        "  with open(filename, 'w', encoding='utf-8') as f:\n",
        "      f.write(response.text)\n",
        "\n",
        "  print(f\"Saved article for '{sub_topic}' to {filename}\")"
      ],
      "execution_count": null,
      "outputs": [
        {
          "output_type": "display_data",
          "data": {
            "text/plain": [
              "0it [00:00, ?it/s]"
            ],
            "application/vnd.jupyter.widget-view+json": {
              "version_major": 2,
              "version_minor": 0,
              "model_id": "873e369702d442ba84786e110c2e9112"
            }
          },
          "metadata": {}
        },
        {
          "output_type": "stream",
          "name": "stdout",
          "text": [
            "Saved article for 'Basic Concepts of Game Theory' to articles/game_theory/1.Basic_Concepts_of_Game_Theory.txt\n",
            "Saved article for 'Game Representation (Normal Form, Extensive Form)' to articles/game_theory/2.Game_Representation_(Normal_Form,_Extensive_Form).txt\n",
            "Saved article for 'Dominant Strategies and Dominated Strategies' to articles/game_theory/3.Dominant_Strategies_and_Dominated_Strategies.txt\n",
            "Saved article for 'Nash Equilibrium' to articles/game_theory/4.Nash_Equilibrium.txt\n",
            "Saved article for 'Mixed Strategies' to articles/game_theory/5.Mixed_Strategies.txt\n",
            "Saved article for 'Zero-Sum Games' to articles/game_theory/6.Zero-Sum_Games.txt\n",
            "Saved article for 'Non-Zero-Sum Games' to articles/game_theory/7.Non-Zero-Sum_Games.txt\n",
            "Saved article for 'Repeated Games' to articles/game_theory/8.Repeated_Games.txt\n",
            "Saved article for 'Incomplete Information Games' to articles/game_theory/9.Incomplete_Information_Games.txt\n",
            "Saved article for 'Behavioral Game Theory (brief overview)' to articles/game_theory/10.Behavioral_Game_Theory_(brief_overview).txt\n",
            "Saved article for '' to articles/game_theory/11..txt\n"
          ]
        }
      ]
    },
    {
      "cell_type": "markdown",
      "source": [
        "### 2. AI based Chatbot"
      ],
      "metadata": {
        "id": "FqC2p18AKbNV"
      }
    },
    {
      "cell_type": "code",
      "metadata": {
        "colab": {
          "base_uri": "https://localhost:8080/",
          "height": 297
        },
        "id": "b8bdce49",
        "outputId": "6e06fb20-c426-46c8-87d3-9d50697a8891"
      },
      "source": [
        "# Initialize chat history\n",
        "chat = gemini_model.start_chat(history=[])\n",
        "\n",
        "print(\"Simple Chatbot (type 'quit' to exit)\")\n",
        "\n",
        "while True:\n",
        "    user_input = input(\"You: \")\n",
        "    if user_input.lower() == 'quit':\n",
        "        break\n",
        "\n",
        "    try:\n",
        "        response = chat.send_message(user_input)\n",
        "\n",
        "        print(\"Bot:\", response.text)\n",
        "        usage = response.usage_metadata\n",
        "\n",
        "        print(f\"Prompt token count: {usage.prompt_token_count}\")\n",
        "        print(f\"Candidates token count: {usage.candidates_token_count}\")\n",
        "        print(f\"Total token count: {usage.total_token_count}\")\n",
        "\n",
        "\n",
        "    except Exception as e:\n",
        "        print(f\"An error occurred: {e}\")\n",
        "\n",
        "print(\"Chatbot session ended.\")"
      ],
      "execution_count": null,
      "outputs": [
        {
          "output_type": "stream",
          "name": "stdout",
          "text": [
            "Simple Chatbot (type 'quit' to exit)\n",
            "You: hi\n",
            "Bot: Hi there! How can I help you today?\n",
            "\n",
            "Prompt token count: 1\n",
            "Candidates token count: 11\n",
            "Total token count: 12\n",
            "You: how are you?\n",
            "Bot: I'm doing well, thank you for asking!  As a large language model, I don't experience emotions in the same way humans do, but I'm functioning optimally and ready to assist you.  How are you?\n",
            "\n",
            "Prompt token count: 16\n",
            "Candidates token count: 49\n",
            "Total token count: 65\n",
            "You: quit\n",
            "Chatbot session ended.\n"
          ]
        }
      ]
    },
    {
      "cell_type": "code",
      "source": [
        "chat"
      ],
      "metadata": {
        "colab": {
          "base_uri": "https://localhost:8080/"
        },
        "id": "3s3veBm1in0v",
        "outputId": "62bb58dd-a467-4737-b0b6-431b2457772c"
      },
      "execution_count": null,
      "outputs": [
        {
          "output_type": "execute_result",
          "data": {
            "text/plain": [
              "ChatSession(\n",
              "    model=genai.GenerativeModel(\n",
              "        model_name='models/gemini-1.5-flash',\n",
              "        generation_config={},\n",
              "        safety_settings={},\n",
              "        tools=None,\n",
              "        system_instruction=None,\n",
              "        cached_content=None\n",
              "    ),\n",
              "    history=[protos.Content({'parts': [{'text': 'hi'}], 'role': 'user'}), protos.Content({'parts': [{'text': 'Hi there! Ho... you today?\\n'}], 'role': 'model'}), protos.Content({'parts': [{'text': 'how are you?'}], 'role': 'user'}), protos.Content({'parts': [{'text': \"I'm doing we...ow are you?\\n\"}], 'role': 'model'})]\n",
              ")"
            ]
          },
          "metadata": {},
          "execution_count": 37
        }
      ]
    }
  ]
}