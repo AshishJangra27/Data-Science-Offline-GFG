{
  "cells": [
    {
      "cell_type": "markdown",
      "metadata": {
        "id": "OuSetjtplozW"
      },
      "source": [
        "# Clustering MNIST Dataset Using K-Means\n",
        "\n",
        "## Introduction\n",
        "This project explores the application of K-Means clustering to the MNIST dataset of handwritten digits. The goal is to determine how well the unsupervised learning model can identify and group similar digit images without prior knowledge of the labels."
      ]
    },
    {
      "cell_type": "markdown",
      "metadata": {
        "id": "qbnNi2OflozY"
      },
      "source": [
        "## 1. Data Loading\n",
        "Load the MNIST dataset, which consists of 70,000 images of handwritten digits."
      ]
    },
    {
      "cell_type": "code",
      "execution_count": null,
      "metadata": {
        "id": "stbVp8DFlozY"
      },
      "outputs": [],
      "source": [
        "from tensorflow.keras.datasets import mnist\n",
        "import numpy as np\n",
        "\n",
        "(train_images, train_labels), (test_images, test_labels) = mnist.load_data()\n",
        "\n",
        "X = np.concatenate([train_images.reshape(train_images.shape[0], -1),\n",
        "                    test_images.reshape(test_images.shape[0], -1)])"
      ]
    },
    {
      "cell_type": "markdown",
      "metadata": {
        "id": "cVeggLF3lozZ"
      },
      "source": [
        "## 2. Data Preprocessing\n",
        "Normalize the image data to prepare for clustering."
      ]
    },
    {
      "cell_type": "code",
      "execution_count": null,
      "metadata": {
        "id": "l50HH1dqlozZ"
      },
      "outputs": [],
      "source": [
        "X = X.astype('float32') / 255"
      ]
    },
    {
      "cell_type": "markdown",
      "metadata": {
        "id": "WNKLHPuUloza"
      },
      "source": [
        "## 3. Applying K-Means Clustering\n",
        "Cluster the data into 10 groups, corresponding to the 10 digits."
      ]
    },
    {
      "cell_type": "code",
      "execution_count": null,
      "metadata": {
        "id": "AdRXNEgBloza"
      },
      "outputs": [],
      "source": [
        "from sklearn.cluster import KMeans\n",
        "\n",
        "kmeans = KMeans(n_clusters=10, n_init=10, random_state=42)\n",
        "y_pred = kmeans.fit_predict(X)"
      ]
    },
    {
      "cell_type": "markdown",
      "metadata": {
        "id": "MHR1NhiBloza"
      },
      "source": [
        "## 4. Evaluating Clustering Performance\n",
        "Use metrics such as the silhouette score to evaluate the clustering effectiveness."
      ]
    },
    {
      "cell_type": "markdown",
      "metadata": {
        "id": "JxbWZcCwloza"
      },
      "source": [
        "## 5. Visualizing Clusters\n",
        "Visualize sample images from each cluster to assess their homogeneity."
      ]
    },
    {
      "cell_type": "code",
      "source": [
        "import matplotlib.pyplot as plt\n",
        "\n",
        "# Assuming X is your data array\n",
        "\n",
        "indx = 5\n",
        "\n",
        "print(y_pred[indx])\n",
        "image_array = (X[indx]*255).astype(int).reshape(28,28)\n",
        "\n",
        "plt.imshow(image_array, cmap='gray') # Use 'gray' colormap for grayscale images\n",
        "plt.title('Image from X[0]')\n",
        "plt.axis('off')  # Hide axes ticks and labels\n",
        "plt.show()"
      ],
      "metadata": {
        "colab": {
          "base_uri": "https://localhost:8080/",
          "height": 445
        },
        "id": "7Q7-NTaknVQw",
        "outputId": "328a5e1c-18e2-4ea7-9320-55bbd5fc59fa"
      },
      "execution_count": null,
      "outputs": [
        {
          "output_type": "stream",
          "name": "stdout",
          "text": [
            "6\n"
          ]
        },
        {
          "output_type": "display_data",
          "data": {
            "text/plain": [
              "<Figure size 640x480 with 1 Axes>"
            ],
            "image/png": "[encoded data removed]"
          },
          "metadata": {}
        }
      ]
    },
    {
      "cell_type": "code",
      "source": [],
      "metadata": {
        "id": "cybKH1x-oMJf"
      },
      "execution_count": null,
      "outputs": []
    }
  ],
  "metadata": {
    "kernelspec": {
      "display_name": "Python 3",
      "language": "python",
      "name": "python3"
    },
    "language_info": {
      "codemirror_mode": {
        "name": "ipython",
        "version": 3
      },
      "file_extension": ".py",
      "mimetype": "text/x-python",
      "name": "python",
      "nbconvert_exporter": "python",
      "pygments_lexer": "ipython3",
      "version": "3.8.5"
    },
    "colab": {
      "provenance": []
    }
  },
  "nbformat": 4,
  "nbformat_minor": 0
}