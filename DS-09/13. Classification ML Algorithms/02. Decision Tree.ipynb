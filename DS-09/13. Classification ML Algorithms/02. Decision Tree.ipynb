{
  "nbformat": 4,
  "nbformat_minor": 0,
  "metadata": {
    "colab": {
      "provenance": []
    },
    "kernelspec": {
      "name": "python3",
      "display_name": "Python 3"
    },
    "language_info": {
      "name": "python"
    }
  },
  "cells": [
    {
      "cell_type": "code",
      "execution_count": 1,
      "metadata": {
        "id": "BiuLgWWmOkWX"
      },
      "outputs": [],
      "source": [
        "import numpy as np\n",
        "from sklearn.datasets import load_iris\n",
        "from sklearn.model_selection import train_test_split\n",
        "from sklearn.metrics import accuracy_score"
      ]
    },
    {
      "cell_type": "code",
      "source": [
        "iris = load_iris()\n",
        "\n",
        "X = iris['data']\n",
        "y = iris['target']\n",
        "\n",
        "X_train, X_test, y_train, y_test = train_test_split(X, y, test_size=0.2, random_state = 32)\n",
        "\n",
        "X_test, X_val, y_test, y_val = train_test_split(X_test,y_test, test_size=0.5, random_state = 32)\n",
        "\n",
        "\n",
        "# print(X_train.shape)\n",
        "print(y_test)\n",
        "print(y_val)"
      ],
      "metadata": {
        "colab": {
          "base_uri": "https://localhost:8080/"
        },
        "id": "N7Ja_KiIIdLX",
        "outputId": "623428a6-ba42-4e3a-8161-bb6d38a50ddf"
      },
      "execution_count": 2,
      "outputs": [
        {
          "output_type": "stream",
          "name": "stdout",
          "text": [
            "[0 0 0 2 0 1 2 1 0 0 0 2 2 2 0]\n",
            "[1 1 0 1 2 2 0 1 2 1 2 0 1 1 0]\n"
          ]
        }
      ]
    },
    {
      "cell_type": "code",
      "source": [
        "y"
      ],
      "metadata": {
        "colab": {
          "base_uri": "https://localhost:8080/"
        },
        "id": "3J64zT0mGzw6",
        "outputId": "294c8a87-5ebf-426f-bd15-6779627c301c"
      },
      "execution_count": null,
      "outputs": [
        {
          "output_type": "execute_result",
          "data": {
            "text/plain": [
              "array([0, 0, 0, 0, 0, 0, 0, 0, 0, 0, 0, 0, 0, 0, 0, 0, 0, 0, 0, 0, 0, 0,\n",
              "       0, 0, 0, 0, 0, 0, 0, 0, 0, 0, 0, 0, 0, 0, 0, 0, 0, 0, 0, 0, 0, 0,\n",
              "       0, 0, 0, 0, 0, 0, 1, 1, 1, 1, 1, 1, 1, 1, 1, 1, 1, 1, 1, 1, 1, 1,\n",
              "       1, 1, 1, 1, 1, 1, 1, 1, 1, 1, 1, 1, 1, 1, 1, 1, 1, 1, 1, 1, 1, 1,\n",
              "       1, 1, 1, 1, 1, 1, 1, 1, 1, 1, 1, 1, 2, 2, 2, 2, 2, 2, 2, 2, 2, 2,\n",
              "       2, 2, 2, 2, 2, 2, 2, 2, 2, 2, 2, 2, 2, 2, 2, 2, 2, 2, 2, 2, 2, 2,\n",
              "       2, 2, 2, 2, 2, 2, 2, 2, 2, 2, 2, 2, 2, 2, 2, 2, 2, 2])"
            ]
          },
          "metadata": {},
          "execution_count": 3
        }
      ]
    },
    {
      "cell_type": "code",
      "source": [],
      "metadata": {
        "id": "6qE9wNiHJT8K"
      },
      "execution_count": null,
      "outputs": []
    },
    {
      "cell_type": "code",
      "source": [
        "def calculate_entropy(y):\n",
        "    # Count the occurrences of each class label\n",
        "    counts = np.bincount(y)\n",
        "    probabilities = counts / len(y)\n",
        "    # Remove zero probabilities to avoid log(0)\n",
        "    probabilities = probabilities[probabilities > 0]\n",
        "    # Calculate entropy\n",
        "    entropy = -np.sum(probabilities * np.log2(probabilities))\n",
        "    return entropy"
      ],
      "metadata": {
        "id": "uzQor7SLJTIS"
      },
      "execution_count": null,
      "outputs": []
    },
    {
      "cell_type": "code",
      "source": [
        "def split_data(X, y, feature_index, threshold):\n",
        "\n",
        "    # Indices of samples where feature value <= threshold\n",
        "    left_indices = np.where(X[:, feature_index] <= threshold)[0]\n",
        "\n",
        "    # Indices of samples where feature value > threshold\n",
        "    right_indices = np.where(X[:, feature_index] > threshold)[0]\n",
        "\n",
        "    return left_indices, right_indices"
      ],
      "metadata": {
        "id": "4iKcYmjPWiy6"
      },
      "execution_count": null,
      "outputs": []
    },
    {
      "cell_type": "code",
      "source": [
        "def find_best_split(X, y):\n",
        "\n",
        "    num_samples, num_features = X.shape\n",
        "\n",
        "    parent_entropy = calculate_entropy(y)\n",
        "    best_info_gain = 0\n",
        "    best_feature_index = None\n",
        "    best_threshold = None\n",
        "\n",
        "    for feature_index in range(num_features):\n",
        "        # Get all unique values of the selected feature\n",
        "\n",
        "        feature_values = X[:, feature_index]\n",
        "        thresholds = np.unique(feature_values)\n",
        "\n",
        "        for threshold in thresholds:\n",
        "            # Split the data\n",
        "            left_indices, right_indices = split_data(X, y, feature_index, threshold)\n",
        "            if len(left_indices) == 0 or len(right_indices) == 0:\n",
        "                continue\n",
        "\n",
        "            # Calculate the entropy for the left and right subsets\n",
        "            left_entropy = calculate_entropy(y[left_indices])\n",
        "            right_entropy = calculate_entropy(y[right_indices])\n",
        "\n",
        "            # Calculate the weighted average entropy after the split\n",
        "            n_left = len(left_indices)\n",
        "            n_right = len(right_indices)\n",
        "            weighted_entropy = (n_left / num_samples) * left_entropy + (n_right / num_samples) * right_entropy\n",
        "\n",
        "            # Calculate information gain\n",
        "            info_gain = parent_entropy - weighted_entropy\n",
        "\n",
        "            # Update the best split if information gain is improved\n",
        "            if info_gain > best_info_gain:\n",
        "                best_info_gain = info_gain\n",
        "                best_feature_index = feature_index\n",
        "                best_threshold = threshold\n",
        "\n",
        "    return best_feature_index, best_threshold"
      ],
      "metadata": {
        "id": "l5IgvZ2bccn5"
      },
      "execution_count": null,
      "outputs": []
    },
    {
      "cell_type": "code",
      "source": [
        "\n",
        "# Recursive function to build the decision tree\n",
        "def build_decision_tree(X, y, max_depth, current_depth=0):\n",
        "    num_samples = len(y)\n",
        "    num_labels = len(np.unique(y))\n",
        "\n",
        "    # Stopping criteria\n",
        "    if current_depth >= max_depth or num_labels == 1 or num_samples == 0:\n",
        "        # Return the most common label\n",
        "        return np.bincount(y).argmax()\n",
        "\n",
        "    # Find the best split\n",
        "    feature_index, threshold = find_best_split(X, y)\n",
        "    if feature_index is None:\n",
        "        # Cannot split further\n",
        "        return np.bincount(y).argmax()\n",
        "\n",
        "    # Split the data\n",
        "    left_indices, right_indices = split_data(X, y, feature_index, threshold)\n",
        "\n",
        "    # Build the left and right branches recursively\n",
        "    left_subtree = build_decision_tree(X[left_indices], y[left_indices], max_depth, current_depth + 1)\n",
        "    right_subtree = build_decision_tree(X[right_indices], y[right_indices], max_depth, current_depth + 1)\n",
        "\n",
        "    # Return a dictionary representing the decision node\n",
        "    return {\n",
        "        'feature_index': feature_index,\n",
        "        'threshold': threshold,\n",
        "        'left_subtree': left_subtree,\n",
        "        'right_subtree': right_subtree\n",
        "    }\n",
        "\n",
        "# Function to make a prediction for a single sample\n",
        "def predict_sample(sample, tree):\n",
        "    # If the tree is a leaf node, return the label\n",
        "    if not isinstance(tree, dict):\n",
        "        return tree\n",
        "\n",
        "    # Get the feature value for the current node's feature\n",
        "    feature_value = sample[tree['feature_index']]\n",
        "\n",
        "    # Traverse the left or right subtree based on the threshold\n",
        "    if feature_value <= tree['threshold']:\n",
        "        return predict_sample(sample, tree['left_subtree'])\n",
        "    else:\n",
        "        return predict_sample(sample, tree['right_subtree'])\n",
        "\n",
        "# Load the Iris dataset\n",
        "\n",
        "# Build the decision tree using the training data\n",
        "max_depth = 3  # You can adjust this value\n",
        "decision_tree = build_decision_tree(X_train, y_train, max_depth)\n",
        "\n",
        "# Make predictions on the test data\n",
        "y_pred = [predict_sample(sample, decision_tree) for sample in X_test]\n",
        "\n",
        "# Calculate and print the accuracy of the model\n",
        "accuracy = accuracy_score(y_test, y_pred)\n",
        "print(\"Accuracy:\", accuracy)"
      ],
      "metadata": {
        "colab": {
          "base_uri": "https://localhost:8080/"
        },
        "id": "4q2fqdZPHZbg",
        "outputId": "7cb7e10c-cf76-4746-9333-9494d530339f"
      },
      "execution_count": null,
      "outputs": [
        {
          "output_type": "stream",
          "name": "stdout",
          "text": [
            "Accuracy: 0.9333333333333333\n"
          ]
        }
      ]
    },
    {
      "cell_type": "code",
      "source": [
        "decision_tree"
      ],
      "metadata": {
        "colab": {
          "base_uri": "https://localhost:8080/"
        },
        "id": "m9_l0DLZncJV",
        "outputId": "35e050ea-805a-4532-dad8-2a29413ac806"
      },
      "execution_count": null,
      "outputs": [
        {
          "output_type": "execute_result",
          "data": {
            "text/plain": [
              "{'feature_index': 2,\n",
              " 'threshold': 1.9,\n",
              " 'left_subtree': 0,\n",
              " 'right_subtree': {'feature_index': 3,\n",
              "  'threshold': 1.7,\n",
              "  'left_subtree': {'feature_index': 2,\n",
              "   'threshold': 4.9,\n",
              "   'left_subtree': 1,\n",
              "   'right_subtree': 2},\n",
              "  'right_subtree': {'feature_index': 2,\n",
              "   'threshold': 4.8,\n",
              "   'left_subtree': 1,\n",
              "   'right_subtree': 2}}}"
            ]
          },
          "metadata": {},
          "execution_count": 8
        }
      ]
    },
    {
      "cell_type": "markdown",
      "source": [
        "<!DOCTYPE html>\n",
        "<html>\n",
        "<head>\n",
        "    <title>Decision Tree Visualization</title>\n",
        "    <style>\n",
        "        ul {\n",
        "            list-style-type: none;\n",
        "        }\n",
        "        li::before {\n",
        "            content: \"• \";\n",
        "            color: #555;\n",
        "        }\n",
        "        .decision {\n",
        "            font-weight: bold;\n",
        "        }\n",
        "        .prediction {\n",
        "            color: green;\n",
        "            font-weight: bold;\n",
        "        }\n",
        "        .condition {\n",
        "            color: blue;\n",
        "        }\n",
        "    </style>\n",
        "</head>\n",
        "<body>\n",
        "\n",
        "<h2>Decision Tree</h2>\n",
        "<ul>\n",
        "    <li>\n",
        "        <span class=\"decision\">Is Petal Length (cm) ≤ 1.9?</span>\n",
        "        <ul>\n",
        "            <li>\n",
        "                <span class=\"condition\">Yes</span> ➔ Predict <span class=\"prediction\">Class 0</span> (Iris-setosa)\n",
        "            </li>\n",
        "            <li>\n",
        "                <span class=\"condition\">No</span> ➔\n",
        "                <ul>\n",
        "                    <li>\n",
        "                        <span class=\"decision\">Is Petal Length (cm) ≤ 4.7?</span>\n",
        "                        <ul>\n",
        "                            <li>\n",
        "                                <span class=\"condition\">Yes</span> ➔\n",
        "                                <ul>\n",
        "                                    <li>\n",
        "                                        <span class=\"decision\">Is Petal Width (cm) ≤ 1.6?</span>\n",
        "                                        <ul>\n",
        "                                            <li>\n",
        "                                                <span class=\"condition\">Yes</span> ➔ Predict <span class=\"prediction\">Class 1</span> (Iris-versicolor)\n",
        "                                            </li>\n",
        "                                            <li>\n",
        "                                                <span class=\"condition\">No</span> ➔ Predict <span class=\"prediction\">Class 2</span> (Iris-virginica)\n",
        "                                            </li>\n",
        "                                        </ul>\n",
        "                                    </li>\n",
        "                                </ul>\n",
        "                            </li>\n",
        "                            <li>\n",
        "                                <span class=\"condition\">No</span> ➔\n",
        "                                <ul>\n",
        "                                    <li>\n",
        "                                        <span class=\"decision\">Is Petal Width (cm) ≤ 1.7?</span>\n",
        "                                        <ul>\n",
        "                                            <li>\n",
        "                                                <span class=\"condition\">Yes</span> ➔ Predict <span class=\"prediction\">Class 1</span> (Iris-versicolor)\n",
        "                                            </li>\n",
        "                                            <li>\n",
        "                                                <span class=\"condition\">No</span> ➔ Predict <span class=\"prediction\">Class 2</span> (Iris-virginica)\n",
        "                                            </li>\n",
        "                                        </ul>\n",
        "                                    </li>\n",
        "                                </ul>\n",
        "                            </li>\n",
        "                        </ul>\n",
        "                    </li>\n",
        "                </ul>\n",
        "            </li>\n",
        "        </ul>\n",
        "    </li>\n",
        "</ul>\n",
        "\n",
        "</body>\n",
        "</html>\n"
      ],
      "metadata": {
        "id": "WFmO2VMsohiM"
      }
    },
    {
      "cell_type": "markdown",
      "source": [
        "### 2. Decision Tree in Hurry"
      ],
      "metadata": {
        "id": "CRiWYU5mr51u"
      }
    },
    {
      "cell_type": "code",
      "source": [
        "from sklearn.tree import DecisionTreeClassifier\n",
        "\n",
        "tree_classifier = DecisionTreeClassifier(max_depth=3, random_state=42)  # Adjust max_depth as needed\n",
        "\n",
        "tree_classifier.fit(X_train, y_train)\n",
        "\n",
        "y_pred = tree_classifier.predict(X_test)\n",
        "\n",
        "accuracy = accuracy_score(y_test, y_pred)\n",
        "print(\"Accuracy:\", accuracy)"
      ],
      "metadata": {
        "colab": {
          "base_uri": "https://localhost:8080/"
        },
        "id": "XC7BNsK-reeI",
        "outputId": "47c773e3-f5bb-4231-da9a-14861b0f7993"
      },
      "execution_count": 27,
      "outputs": [
        {
          "output_type": "stream",
          "name": "stdout",
          "text": [
            "Accuracy: 0.9333333333333333\n"
          ]
        }
      ]
    },
    {
      "cell_type": "code",
      "source": [],
      "metadata": {
        "id": "cNjcKiCfShSU"
      },
      "execution_count": null,
      "outputs": []
    }
  ]
}