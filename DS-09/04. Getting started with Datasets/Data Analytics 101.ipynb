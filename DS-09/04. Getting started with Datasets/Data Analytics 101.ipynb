{
  "nbformat": 4,
  "nbformat_minor": 0,
  "metadata": {
    "colab": {
      "provenance": []
    },
    "kernelspec": {
      "name": "python3",
      "display_name": "Python 3"
    },
    "language_info": {
      "name": "python"
    }
  },
  "cells": [
    {
      "cell_type": "code",
      "source": [
        "import pandas as pd\n",
        "import numpy as np\n",
        "\n",
        "\n",
        "\n",
        "df = pd.read_csv('/content/data.csv')"
      ],
      "metadata": {
        "id": "nZDEdnoe8bJR"
      },
      "execution_count": 57,
      "outputs": []
    },
    {
      "cell_type": "code",
      "source": [
        "df.head()"
      ],
      "metadata": {
        "id": "_ed8daTM8qoE",
        "outputId": "cc892b73-b203-4227-b2b8-b395275abcca",
        "colab": {
          "base_uri": "https://localhost:8080/",
          "height": 382
        }
      },
      "execution_count": 61,
      "outputs": [
        {
          "output_type": "execute_result",
          "data": {
            "text/plain": [
              "                     product_name      brand_name  rating  rating_count  \\\n",
              "0   Croc Textured Two Fold Wallet     Lino Perros     0.0             0   \n",
              "1             Men Striped Sliders  Mast & Harbour     4.0            76   \n",
              "2            Printed A-line Kurta            Biba     4.3            66   \n",
              "3    Girls Floral Printed T-shirt        Anthrilo     0.0             0   \n",
              "4  Women Printed Kurta with Skirt    FASHION DWAR     0.0             0   \n",
              "\n",
              "   marked_price  discounted_price                      sizes  \\\n",
              "0          1295               828                    Onesize   \n",
              "1          1299               584  UK6,UK7,UK8,UK9,UK10,UK11   \n",
              "2          1999              1599           S,M,L,XL,XXL,3XL   \n",
              "3           599               539            7-8Y,8-9Y,9-10Y   \n",
              "4          2899              2899                   S,M,L,XL   \n",
              "\n",
              "                                        product_link  \\\n",
              "0  wallets/lino-perros/lino-perros-women-peach-co...   \n",
              "1  flip-flops/mast--harbour/mast--harbour-men-nav...   \n",
              "2  kurtas/biba/biba-women-off-white--black-printe...   \n",
              "3  tshirts/anthrilo/anthrilo-girls-white-floral-p...   \n",
              "4  kurta-sets/fashion-dwar/fashion-dwar-women-mul...   \n",
              "\n",
              "                                            img_link product_tag  \\\n",
              "0  https://assets.myntassets.com/dpr_2,q_60,w_210...     wallets   \n",
              "1  https://assets.myntassets.com/dpr_2,q_60,w_210...  flip-flops   \n",
              "2  https://assets.myntassets.com/dpr_2,q_60,w_210...      kurtas   \n",
              "3  https://assets.myntassets.com/dpr_2,q_60,w_210...     tshirts   \n",
              "4  https://assets.myntassets.com/dpr_2,q_60,w_210...  kurta-sets   \n",
              "\n",
              "       brand_tag  discount_amount  discount_percent  \n",
              "0    lino-perros              467                36  \n",
              "1  mast--harbour              715                55  \n",
              "2           biba              400                20  \n",
              "3       anthrilo               60                10  \n",
              "4   fashion-dwar                0                 0  "
            ],
            "text/html": [
              "\n",
              "  <div id=\"df-b1688870-d792-40d0-8fbc-a901e4c8c399\" class=\"colab-df-container\">\n",
              "    <div>\n",
              "<style scoped>\n",
              "    .dataframe tbody tr th:only-of-type {\n",
              "        vertical-align: middle;\n",
              "    }\n",
              "\n",
              "    .dataframe tbody tr th {\n",
              "        vertical-align: top;\n",
              "    }\n",
              "\n",
              "    .dataframe thead th {\n",
              "        text-align: right;\n",
              "    }\n",
              "</style>\n",
              "<table border=\"1\" class=\"dataframe\">\n",
              "  <thead>\n",
              "    <tr style=\"text-align: right;\">\n",
              "      <th></th>\n",
              "      <th>product_name</th>\n",
              "      <th>brand_name</th>\n",
              "      <th>rating</th>\n",
              "      <th>rating_count</th>\n",
              "      <th>marked_price</th>\n",
              "      <th>discounted_price</th>\n",
              "      <th>sizes</th>\n",
              "      <th>product_link</th>\n",
              "      <th>img_link</th>\n",
              "      <th>product_tag</th>\n",
              "      <th>brand_tag</th>\n",
              "      <th>discount_amount</th>\n",
              "      <th>discount_percent</th>\n",
              "    </tr>\n",
              "  </thead>\n",
              "  <tbody>\n",
              "    <tr>\n",
              "      <th>0</th>\n",
              "      <td>Croc Textured Two Fold Wallet</td>\n",
              "      <td>Lino Perros</td>\n",
              "      <td>0.0</td>\n",
              "      <td>0</td>\n",
              "      <td>1295</td>\n",
              "      <td>828</td>\n",
              "      <td>Onesize</td>\n",
              "      <td>wallets/lino-perros/lino-perros-women-peach-co...</td>\n",
              "      <td>https://assets.myntassets.com/dpr_2,q_60,w_210...</td>\n",
              "      <td>wallets</td>\n",
              "      <td>lino-perros</td>\n",
              "      <td>467</td>\n",
              "      <td>36</td>\n",
              "    </tr>\n",
              "    <tr>\n",
              "      <th>1</th>\n",
              "      <td>Men Striped Sliders</td>\n",
              "      <td>Mast &amp; Harbour</td>\n",
              "      <td>4.0</td>\n",
              "      <td>76</td>\n",
              "      <td>1299</td>\n",
              "      <td>584</td>\n",
              "      <td>UK6,UK7,UK8,UK9,UK10,UK11</td>\n",
              "      <td>flip-flops/mast--harbour/mast--harbour-men-nav...</td>\n",
              "      <td>https://assets.myntassets.com/dpr_2,q_60,w_210...</td>\n",
              "      <td>flip-flops</td>\n",
              "      <td>mast--harbour</td>\n",
              "      <td>715</td>\n",
              "      <td>55</td>\n",
              "    </tr>\n",
              "    <tr>\n",
              "      <th>2</th>\n",
              "      <td>Printed A-line Kurta</td>\n",
              "      <td>Biba</td>\n",
              "      <td>4.3</td>\n",
              "      <td>66</td>\n",
              "      <td>1999</td>\n",
              "      <td>1599</td>\n",
              "      <td>S,M,L,XL,XXL,3XL</td>\n",
              "      <td>kurtas/biba/biba-women-off-white--black-printe...</td>\n",
              "      <td>https://assets.myntassets.com/dpr_2,q_60,w_210...</td>\n",
              "      <td>kurtas</td>\n",
              "      <td>biba</td>\n",
              "      <td>400</td>\n",
              "      <td>20</td>\n",
              "    </tr>\n",
              "    <tr>\n",
              "      <th>3</th>\n",
              "      <td>Girls Floral Printed T-shirt</td>\n",
              "      <td>Anthrilo</td>\n",
              "      <td>0.0</td>\n",
              "      <td>0</td>\n",
              "      <td>599</td>\n",
              "      <td>539</td>\n",
              "      <td>7-8Y,8-9Y,9-10Y</td>\n",
              "      <td>tshirts/anthrilo/anthrilo-girls-white-floral-p...</td>\n",
              "      <td>https://assets.myntassets.com/dpr_2,q_60,w_210...</td>\n",
              "      <td>tshirts</td>\n",
              "      <td>anthrilo</td>\n",
              "      <td>60</td>\n",
              "      <td>10</td>\n",
              "    </tr>\n",
              "    <tr>\n",
              "      <th>4</th>\n",
              "      <td>Women Printed Kurta with Skirt</td>\n",
              "      <td>FASHION DWAR</td>\n",
              "      <td>0.0</td>\n",
              "      <td>0</td>\n",
              "      <td>2899</td>\n",
              "      <td>2899</td>\n",
              "      <td>S,M,L,XL</td>\n",
              "      <td>kurta-sets/fashion-dwar/fashion-dwar-women-mul...</td>\n",
              "      <td>https://assets.myntassets.com/dpr_2,q_60,w_210...</td>\n",
              "      <td>kurta-sets</td>\n",
              "      <td>fashion-dwar</td>\n",
              "      <td>0</td>\n",
              "      <td>0</td>\n",
              "    </tr>\n",
              "  </tbody>\n",
              "</table>\n",
              "</div>\n",
              "    <div class=\"colab-df-buttons\">\n",
              "\n",
              "  <div class=\"colab-df-container\">\n",
              "    <button class=\"colab-df-convert\" onclick=\"convertToInteractive('df-b1688870-d792-40d0-8fbc-a901e4c8c399')\"\n",
              "            title=\"Convert this dataframe to an interactive table.\"\n",
              "            style=\"display:none;\">\n",
              "\n",
              "  <svg xmlns=\"http://www.w3.org/2000/svg\" height=\"24px\" viewBox=\"0 -960 960 960\">\n",
              "    <path d=\"M120-120v-720h720v720H120Zm60-500h600v-160H180v160Zm220 220h160v-160H400v160Zm0 220h160v-160H400v160ZM180-400h160v-160H180v160Zm440 0h160v-160H620v160ZM180-180h160v-160H180v160Zm440 0h160v-160H620v160Z\"/>\n",
              "  </svg>\n",
              "    </button>\n",
              "\n",
              "  <style>\n",
              "    .colab-df-container {\n",
              "      display:flex;\n",
              "      gap: 12px;\n",
              "    }\n",
              "\n",
              "    .colab-df-convert {\n",
              "      background-color: #E8F0FE;\n",
              "      border: none;\n",
              "      border-radius: 50%;\n",
              "      cursor: pointer;\n",
              "      display: none;\n",
              "      fill: #1967D2;\n",
              "      height: 32px;\n",
              "      padding: 0 0 0 0;\n",
              "      width: 32px;\n",
              "    }\n",
              "\n",
              "    .colab-df-convert:hover {\n",
              "      background-color: #E2EBFA;\n",
              "      box-shadow: 0px 1px 2px rgba(60, 64, 67, 0.3), 0px 1px 3px 1px rgba(60, 64, 67, 0.15);\n",
              "      fill: #174EA6;\n",
              "    }\n",
              "\n",
              "    .colab-df-buttons div {\n",
              "      margin-bottom: 4px;\n",
              "    }\n",
              "\n",
              "    [theme=dark] .colab-df-convert {\n",
              "      background-color: #3B4455;\n",
              "      fill: #D2E3FC;\n",
              "    }\n",
              "\n",
              "    [theme=dark] .colab-df-convert:hover {\n",
              "      background-color: #434B5C;\n",
              "      box-shadow: 0px 1px 3px 1px rgba(0, 0, 0, 0.15);\n",
              "      filter: drop-shadow(0px 1px 2px rgba(0, 0, 0, 0.3));\n",
              "      fill: #FFFFFF;\n",
              "    }\n",
              "  </style>\n",
              "\n",
              "    <script>\n",
              "      const buttonEl =\n",
              "        document.querySelector('#df-b1688870-d792-40d0-8fbc-a901e4c8c399 button.colab-df-convert');\n",
              "      buttonEl.style.display =\n",
              "        google.colab.kernel.accessAllowed ? 'block' : 'none';\n",
              "\n",
              "      async function convertToInteractive(key) {\n",
              "        const element = document.querySelector('#df-b1688870-d792-40d0-8fbc-a901e4c8c399');\n",
              "        const dataTable =\n",
              "          await google.colab.kernel.invokeFunction('convertToInteractive',\n",
              "                                                    [key], {});\n",
              "        if (!dataTable) return;\n",
              "\n",
              "        const docLinkHtml = 'Like what you see? Visit the ' +\n",
              "          '<a target=\"_blank\" href=https://colab.research.google.com/notebooks/data_table.ipynb>data table notebook</a>'\n",
              "          + ' to learn more about interactive tables.';\n",
              "        element.innerHTML = '';\n",
              "        dataTable['output_type'] = 'display_data';\n",
              "        await google.colab.output.renderOutput(dataTable, element);\n",
              "        const docLink = document.createElement('div');\n",
              "        docLink.innerHTML = docLinkHtml;\n",
              "        element.appendChild(docLink);\n",
              "      }\n",
              "    </script>\n",
              "  </div>\n",
              "\n",
              "\n",
              "<div id=\"df-d82cb6be-614a-4591-ba9e-7f0ec3ae859e\">\n",
              "  <button class=\"colab-df-quickchart\" onclick=\"quickchart('df-d82cb6be-614a-4591-ba9e-7f0ec3ae859e')\"\n",
              "            title=\"Suggest charts\"\n",
              "            style=\"display:none;\">\n",
              "\n",
              "<svg xmlns=\"http://www.w3.org/2000/svg\" height=\"24px\"viewBox=\"0 0 24 24\"\n",
              "     width=\"24px\">\n",
              "    <g>\n",
              "        <path d=\"M19 3H5c-1.1 0-2 .9-2 2v14c0 1.1.9 2 2 2h14c1.1 0 2-.9 2-2V5c0-1.1-.9-2-2-2zM9 17H7v-7h2v7zm4 0h-2V7h2v10zm4 0h-2v-4h2v4z\"/>\n",
              "    </g>\n",
              "</svg>\n",
              "  </button>\n",
              "\n",
              "<style>\n",
              "  .colab-df-quickchart {\n",
              "      --bg-color: #E8F0FE;\n",
              "      --fill-color: #1967D2;\n",
              "      --hover-bg-color: #E2EBFA;\n",
              "      --hover-fill-color: #174EA6;\n",
              "      --disabled-fill-color: #AAA;\n",
              "      --disabled-bg-color: #DDD;\n",
              "  }\n",
              "\n",
              "  [theme=dark] .colab-df-quickchart {\n",
              "      --bg-color: #3B4455;\n",
              "      --fill-color: #D2E3FC;\n",
              "      --hover-bg-color: #434B5C;\n",
              "      --hover-fill-color: #FFFFFF;\n",
              "      --disabled-bg-color: #3B4455;\n",
              "      --disabled-fill-color: #666;\n",
              "  }\n",
              "\n",
              "  .colab-df-quickchart {\n",
              "    background-color: var(--bg-color);\n",
              "    border: none;\n",
              "    border-radius: 50%;\n",
              "    cursor: pointer;\n",
              "    display: none;\n",
              "    fill: var(--fill-color);\n",
              "    height: 32px;\n",
              "    padding: 0;\n",
              "    width: 32px;\n",
              "  }\n",
              "\n",
              "  .colab-df-quickchart:hover {\n",
              "    background-color: var(--hover-bg-color);\n",
              "    box-shadow: 0 1px 2px rgba(60, 64, 67, 0.3), 0 1px 3px 1px rgba(60, 64, 67, 0.15);\n",
              "    fill: var(--button-hover-fill-color);\n",
              "  }\n",
              "\n",
              "  .colab-df-quickchart-complete:disabled,\n",
              "  .colab-df-quickchart-complete:disabled:hover {\n",
              "    background-color: var(--disabled-bg-color);\n",
              "    fill: var(--disabled-fill-color);\n",
              "    box-shadow: none;\n",
              "  }\n",
              "\n",
              "  .colab-df-spinner {\n",
              "    border: 2px solid var(--fill-color);\n",
              "    border-color: transparent;\n",
              "    border-bottom-color: var(--fill-color);\n",
              "    animation:\n",
              "      spin 1s steps(1) infinite;\n",
              "  }\n",
              "\n",
              "  @keyframes spin {\n",
              "    0% {\n",
              "      border-color: transparent;\n",
              "      border-bottom-color: var(--fill-color);\n",
              "      border-left-color: var(--fill-color);\n",
              "    }\n",
              "    20% {\n",
              "      border-color: transparent;\n",
              "      border-left-color: var(--fill-color);\n",
              "      border-top-color: var(--fill-color);\n",
              "    }\n",
              "    30% {\n",
              "      border-color: transparent;\n",
              "      border-left-color: var(--fill-color);\n",
              "      border-top-color: var(--fill-color);\n",
              "      border-right-color: var(--fill-color);\n",
              "    }\n",
              "    40% {\n",
              "      border-color: transparent;\n",
              "      border-right-color: var(--fill-color);\n",
              "      border-top-color: var(--fill-color);\n",
              "    }\n",
              "    60% {\n",
              "      border-color: transparent;\n",
              "      border-right-color: var(--fill-color);\n",
              "    }\n",
              "    80% {\n",
              "      border-color: transparent;\n",
              "      border-right-color: var(--fill-color);\n",
              "      border-bottom-color: var(--fill-color);\n",
              "    }\n",
              "    90% {\n",
              "      border-color: transparent;\n",
              "      border-bottom-color: var(--fill-color);\n",
              "    }\n",
              "  }\n",
              "</style>\n",
              "\n",
              "  <script>\n",
              "    async function quickchart(key) {\n",
              "      const quickchartButtonEl =\n",
              "        document.querySelector('#' + key + ' button');\n",
              "      quickchartButtonEl.disabled = true;  // To prevent multiple clicks.\n",
              "      quickchartButtonEl.classList.add('colab-df-spinner');\n",
              "      try {\n",
              "        const charts = await google.colab.kernel.invokeFunction(\n",
              "            'suggestCharts', [key], {});\n",
              "      } catch (error) {\n",
              "        console.error('Error during call to suggestCharts:', error);\n",
              "      }\n",
              "      quickchartButtonEl.classList.remove('colab-df-spinner');\n",
              "      quickchartButtonEl.classList.add('colab-df-quickchart-complete');\n",
              "    }\n",
              "    (() => {\n",
              "      let quickchartButtonEl =\n",
              "        document.querySelector('#df-d82cb6be-614a-4591-ba9e-7f0ec3ae859e button');\n",
              "      quickchartButtonEl.style.display =\n",
              "        google.colab.kernel.accessAllowed ? 'block' : 'none';\n",
              "    })();\n",
              "  </script>\n",
              "</div>\n",
              "\n",
              "    </div>\n",
              "  </div>\n"
            ],
            "application/vnd.google.colaboratory.intrinsic+json": {
              "type": "dataframe",
              "variable_name": "df"
            }
          },
          "metadata": {},
          "execution_count": 61
        }
      ]
    },
    {
      "cell_type": "code",
      "source": [
        "df['product_link'][0]"
      ],
      "metadata": {
        "id": "vdCFyNXdAiH1",
        "outputId": "e2920ef4-05fe-45e6-c19f-01622a51ae95",
        "colab": {
          "base_uri": "https://localhost:8080/",
          "height": 35
        }
      },
      "execution_count": 70,
      "outputs": [
        {
          "output_type": "execute_result",
          "data": {
            "text/plain": [
              "'wallets/lino-perros/lino-perros-women-peach-coloured-croc-textured-two-fold-wallet/18070682/buy'"
            ],
            "application/vnd.google.colaboratory.intrinsic+json": {
              "type": "string"
            }
          },
          "metadata": {},
          "execution_count": 70
        }
      ]
    },
    {
      "cell_type": "code",
      "source": [
        "df['img_link'][0]"
      ],
      "metadata": {
        "id": "8r6j253lBAdg",
        "outputId": "45dd7fe4-015a-4429-f82e-45443ae41bbf",
        "colab": {
          "base_uri": "https://localhost:8080/",
          "height": 53
        }
      },
      "execution_count": 72,
      "outputs": [
        {
          "output_type": "execute_result",
          "data": {
            "text/plain": [
              "'https://assets.myntassets.com/dpr_2,q_60,w_210,c_limit,fl_progressive/assets/images/18070682/2022/5/16/fd3151c6-aa03-4e37-b7a9-2b7adfed966a1652701027315LinoPerrosWomenPeach-ColouredCrocTexturedTwoFoldWallet1.jpg'"
            ],
            "application/vnd.google.colaboratory.intrinsic+json": {
              "type": "string"
            }
          },
          "metadata": {},
          "execution_count": 72
        }
      ]
    },
    {
      "cell_type": "code",
      "source": [
        "s = 0\n",
        "\n",
        "for i in list(df['rating_count']):\n",
        "  if i > 100:\n",
        "    s += 1\n",
        "\n",
        "\n",
        "print(s)"
      ],
      "metadata": {
        "id": "-ruOHsY1-Tdo",
        "outputId": "11a111dd-9053-4fed-b995-db7fa0d1d3dd",
        "colab": {
          "base_uri": "https://localhost:8080/"
        }
      },
      "execution_count": 74,
      "outputs": [
        {
          "output_type": "stream",
          "name": "stdout",
          "text": [
            "22290\n"
          ]
        }
      ]
    },
    {
      "cell_type": "code",
      "source": [
        "df[df['brand_name'] == 'Biotique']['rating_count'].sum()"
      ],
      "metadata": {
        "id": "Ne49IOJWCWrm",
        "outputId": "cf7ff28e-104e-4764-e405-bd9385b85694",
        "colab": {
          "base_uri": "https://localhost:8080/"
        }
      },
      "execution_count": 91,
      "outputs": [
        {
          "output_type": "execute_result",
          "data": {
            "text/plain": [
              "819866"
            ]
          },
          "metadata": {},
          "execution_count": 91
        }
      ]
    },
    {
      "cell_type": "code",
      "source": [
        "df[df['brand_name'] == 'Biotique']['rating'].mean()"
      ],
      "metadata": {
        "id": "H27TJyxn_Wu3",
        "outputId": "08d80fab-5446-4055-a7f2-013876ff2c9f",
        "colab": {
          "base_uri": "https://localhost:8080/"
        }
      },
      "execution_count": 90,
      "outputs": [
        {
          "output_type": "execute_result",
          "data": {
            "text/plain": [
              "4.371698113207546"
            ]
          },
          "metadata": {},
          "execution_count": 90
        }
      ]
    },
    {
      "cell_type": "code",
      "source": [
        "len(df[df['brand_name'] == 'Roadster'])"
      ],
      "metadata": {
        "id": "W3pg7GWDF5kK",
        "outputId": "32ac1618-db58-44da-a258-535c6a0fb564",
        "colab": {
          "base_uri": "https://localhost:8080/"
        }
      },
      "execution_count": 98,
      "outputs": [
        {
          "output_type": "execute_result",
          "data": {
            "text/plain": [
              "4982"
            ]
          },
          "metadata": {},
          "execution_count": 98
        }
      ]
    },
    {
      "cell_type": "code",
      "source": [
        "df.groupby('brand_name')['rating_count'].sum().sort_values(ascending=False)"
      ],
      "metadata": {
        "id": "IAHiWsdEFg7n",
        "outputId": "87a82c1c-a02d-4e09-9531-01202d56e4fd",
        "colab": {
          "base_uri": "https://localhost:8080/",
          "height": 490
        }
      },
      "execution_count": 94,
      "outputs": [
        {
          "output_type": "execute_result",
          "data": {
            "text/plain": [
              "brand_name\n",
              "Roadster       2106904\n",
              "Biotique        819866\n",
              "Maybelline      707431\n",
              "SASSAFRAS       596765\n",
              "HIGHLANDER      531613\n",
              "                ...   \n",
              "LIL PITAARA          0\n",
              "LIL DRAMA            0\n",
              "LICK                 0\n",
              "LEMME BE             0\n",
              "zink Z               0\n",
              "Name: rating_count, Length: 3194, dtype: int64"
            ],
            "text/html": [
              "<div>\n",
              "<style scoped>\n",
              "    .dataframe tbody tr th:only-of-type {\n",
              "        vertical-align: middle;\n",
              "    }\n",
              "\n",
              "    .dataframe tbody tr th {\n",
              "        vertical-align: top;\n",
              "    }\n",
              "\n",
              "    .dataframe thead th {\n",
              "        text-align: right;\n",
              "    }\n",
              "</style>\n",
              "<table border=\"1\" class=\"dataframe\">\n",
              "  <thead>\n",
              "    <tr style=\"text-align: right;\">\n",
              "      <th></th>\n",
              "      <th>rating_count</th>\n",
              "    </tr>\n",
              "    <tr>\n",
              "      <th>brand_name</th>\n",
              "      <th></th>\n",
              "    </tr>\n",
              "  </thead>\n",
              "  <tbody>\n",
              "    <tr>\n",
              "      <th>Roadster</th>\n",
              "      <td>2106904</td>\n",
              "    </tr>\n",
              "    <tr>\n",
              "      <th>Biotique</th>\n",
              "      <td>819866</td>\n",
              "    </tr>\n",
              "    <tr>\n",
              "      <th>Maybelline</th>\n",
              "      <td>707431</td>\n",
              "    </tr>\n",
              "    <tr>\n",
              "      <th>SASSAFRAS</th>\n",
              "      <td>596765</td>\n",
              "    </tr>\n",
              "    <tr>\n",
              "      <th>HIGHLANDER</th>\n",
              "      <td>531613</td>\n",
              "    </tr>\n",
              "    <tr>\n",
              "      <th>...</th>\n",
              "      <td>...</td>\n",
              "    </tr>\n",
              "    <tr>\n",
              "      <th>LIL PITAARA</th>\n",
              "      <td>0</td>\n",
              "    </tr>\n",
              "    <tr>\n",
              "      <th>LIL DRAMA</th>\n",
              "      <td>0</td>\n",
              "    </tr>\n",
              "    <tr>\n",
              "      <th>LICK</th>\n",
              "      <td>0</td>\n",
              "    </tr>\n",
              "    <tr>\n",
              "      <th>LEMME BE</th>\n",
              "      <td>0</td>\n",
              "    </tr>\n",
              "    <tr>\n",
              "      <th>zink Z</th>\n",
              "      <td>0</td>\n",
              "    </tr>\n",
              "  </tbody>\n",
              "</table>\n",
              "<p>3194 rows × 1 columns</p>\n",
              "</div><br><label><b>dtype:</b> int64</label>"
            ]
          },
          "metadata": {},
          "execution_count": 94
        }
      ]
    },
    {
      "cell_type": "code",
      "source": [
        "# loading the data"
      ],
      "metadata": {
        "id": "Ey5ntvAA0Po2"
      },
      "execution_count": null,
      "outputs": []
    },
    {
      "cell_type": "code",
      "source": [
        "# clean the dataset"
      ],
      "metadata": {
        "id": "bIrMzXAX0ROu"
      },
      "execution_count": null,
      "outputs": []
    },
    {
      "cell_type": "code",
      "source": [
        "# analyse"
      ],
      "metadata": {
        "id": "9zUGRGpO0RRC"
      },
      "execution_count": 42,
      "outputs": []
    },
    {
      "cell_type": "code",
      "source": [],
      "metadata": {
        "id": "NcowO-gW8rQg"
      },
      "execution_count": null,
      "outputs": []
    }
  ]
}